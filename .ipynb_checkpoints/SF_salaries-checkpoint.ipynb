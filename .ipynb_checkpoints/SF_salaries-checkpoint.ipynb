{
 "cells": [
  {
   "cell_type": "code",
   "execution_count": 209,
   "metadata": {
    "collapsed": true
   },
   "outputs": [],
   "source": [
    "import pandas as pd\n",
    "import matplotlib.pyplot as plt\n",
    "import numpy as np\n",
    "import seaborn as sns\n",
    "from sklearn import cross_validation\n",
    "from sklearn.naive_bayes import GaussianNB"
   ]
  },
  {
   "cell_type": "code",
   "execution_count": null,
   "metadata": {
    "collapsed": true
   },
   "outputs": [],
   "source": []
  },
  {
   "cell_type": "code",
   "execution_count": 2,
   "metadata": {
    "collapsed": false
   },
   "outputs": [
    {
     "name": "stderr",
     "output_type": "stream",
     "text": [
      "C:\\Users\\Nachiket\\Anaconda2\\lib\\site-packages\\IPython\\core\\interactiveshell.py:2723: DtypeWarning: Columns (3,4,5,6,12) have mixed types. Specify dtype option on import or set low_memory=False.\n",
      "  interactivity=interactivity, compiler=compiler, result=result)\n"
     ]
    }
   ],
   "source": [
    "salaries_df = pd.read_csv(\"Salaries.csv\")"
   ]
  },
  {
   "cell_type": "code",
   "execution_count": 3,
   "metadata": {
    "collapsed": false
   },
   "outputs": [
    {
     "data": {
      "text/html": [
       "<div>\n",
       "<table border=\"1\" class=\"dataframe\">\n",
       "  <thead>\n",
       "    <tr style=\"text-align: right;\">\n",
       "      <th></th>\n",
       "      <th>Id</th>\n",
       "      <th>EmployeeName</th>\n",
       "      <th>JobTitle</th>\n",
       "      <th>BasePay</th>\n",
       "      <th>OvertimePay</th>\n",
       "      <th>OtherPay</th>\n",
       "      <th>Benefits</th>\n",
       "      <th>TotalPay</th>\n",
       "      <th>TotalPayBenefits</th>\n",
       "      <th>Year</th>\n",
       "      <th>Notes</th>\n",
       "      <th>Agency</th>\n",
       "      <th>Status</th>\n",
       "    </tr>\n",
       "  </thead>\n",
       "  <tbody>\n",
       "    <tr>\n",
       "      <th>0</th>\n",
       "      <td>1</td>\n",
       "      <td>NATHANIEL FORD</td>\n",
       "      <td>GENERAL MANAGER-METROPOLITAN TRANSIT AUTHORITY</td>\n",
       "      <td>167411</td>\n",
       "      <td>0</td>\n",
       "      <td>400184</td>\n",
       "      <td>NaN</td>\n",
       "      <td>567595.43</td>\n",
       "      <td>567595.43</td>\n",
       "      <td>2011</td>\n",
       "      <td>NaN</td>\n",
       "      <td>San Francisco</td>\n",
       "      <td>NaN</td>\n",
       "    </tr>\n",
       "    <tr>\n",
       "      <th>1</th>\n",
       "      <td>2</td>\n",
       "      <td>GARY JIMENEZ</td>\n",
       "      <td>CAPTAIN III (POLICE DEPARTMENT)</td>\n",
       "      <td>155966</td>\n",
       "      <td>245132</td>\n",
       "      <td>137811</td>\n",
       "      <td>NaN</td>\n",
       "      <td>538909.28</td>\n",
       "      <td>538909.28</td>\n",
       "      <td>2011</td>\n",
       "      <td>NaN</td>\n",
       "      <td>San Francisco</td>\n",
       "      <td>NaN</td>\n",
       "    </tr>\n",
       "    <tr>\n",
       "      <th>2</th>\n",
       "      <td>3</td>\n",
       "      <td>ALBERT PARDINI</td>\n",
       "      <td>CAPTAIN III (POLICE DEPARTMENT)</td>\n",
       "      <td>212739</td>\n",
       "      <td>106088</td>\n",
       "      <td>16452.6</td>\n",
       "      <td>NaN</td>\n",
       "      <td>335279.91</td>\n",
       "      <td>335279.91</td>\n",
       "      <td>2011</td>\n",
       "      <td>NaN</td>\n",
       "      <td>San Francisco</td>\n",
       "      <td>NaN</td>\n",
       "    </tr>\n",
       "    <tr>\n",
       "      <th>3</th>\n",
       "      <td>4</td>\n",
       "      <td>CHRISTOPHER CHONG</td>\n",
       "      <td>WIRE ROPE CABLE MAINTENANCE MECHANIC</td>\n",
       "      <td>77916</td>\n",
       "      <td>56120.7</td>\n",
       "      <td>198307</td>\n",
       "      <td>NaN</td>\n",
       "      <td>332343.61</td>\n",
       "      <td>332343.61</td>\n",
       "      <td>2011</td>\n",
       "      <td>NaN</td>\n",
       "      <td>San Francisco</td>\n",
       "      <td>NaN</td>\n",
       "    </tr>\n",
       "    <tr>\n",
       "      <th>4</th>\n",
       "      <td>5</td>\n",
       "      <td>PATRICK GARDNER</td>\n",
       "      <td>DEPUTY CHIEF OF DEPARTMENT,(FIRE DEPARTMENT)</td>\n",
       "      <td>134402</td>\n",
       "      <td>9737</td>\n",
       "      <td>182235</td>\n",
       "      <td>NaN</td>\n",
       "      <td>326373.19</td>\n",
       "      <td>326373.19</td>\n",
       "      <td>2011</td>\n",
       "      <td>NaN</td>\n",
       "      <td>San Francisco</td>\n",
       "      <td>NaN</td>\n",
       "    </tr>\n",
       "  </tbody>\n",
       "</table>\n",
       "</div>"
      ],
      "text/plain": [
       "   Id       EmployeeName                                        JobTitle  \\\n",
       "0   1     NATHANIEL FORD  GENERAL MANAGER-METROPOLITAN TRANSIT AUTHORITY   \n",
       "1   2       GARY JIMENEZ                 CAPTAIN III (POLICE DEPARTMENT)   \n",
       "2   3     ALBERT PARDINI                 CAPTAIN III (POLICE DEPARTMENT)   \n",
       "3   4  CHRISTOPHER CHONG            WIRE ROPE CABLE MAINTENANCE MECHANIC   \n",
       "4   5    PATRICK GARDNER    DEPUTY CHIEF OF DEPARTMENT,(FIRE DEPARTMENT)   \n",
       "\n",
       "  BasePay OvertimePay OtherPay Benefits   TotalPay  TotalPayBenefits  Year  \\\n",
       "0  167411           0   400184      NaN  567595.43         567595.43  2011   \n",
       "1  155966      245132   137811      NaN  538909.28         538909.28  2011   \n",
       "2  212739      106088  16452.6      NaN  335279.91         335279.91  2011   \n",
       "3   77916     56120.7   198307      NaN  332343.61         332343.61  2011   \n",
       "4  134402        9737   182235      NaN  326373.19         326373.19  2011   \n",
       "\n",
       "   Notes         Agency Status  \n",
       "0    NaN  San Francisco    NaN  \n",
       "1    NaN  San Francisco    NaN  \n",
       "2    NaN  San Francisco    NaN  \n",
       "3    NaN  San Francisco    NaN  \n",
       "4    NaN  San Francisco    NaN  "
      ]
     },
     "execution_count": 3,
     "metadata": {},
     "output_type": "execute_result"
    }
   ],
   "source": [
    "salaries_df.head()"
   ]
  },
  {
   "cell_type": "code",
   "execution_count": 4,
   "metadata": {
    "collapsed": false
   },
   "outputs": [
    {
     "data": {
      "text/plain": [
       "Id                  148654\n",
       "EmployeeName        148654\n",
       "JobTitle            148654\n",
       "BasePay             148049\n",
       "OvertimePay         148654\n",
       "OtherPay            148654\n",
       "Benefits            112495\n",
       "TotalPay            148654\n",
       "TotalPayBenefits    148654\n",
       "Year                148654\n",
       "Notes                    0\n",
       "Agency              148654\n",
       "Status               38119\n",
       "dtype: int64"
      ]
     },
     "execution_count": 4,
     "metadata": {},
     "output_type": "execute_result"
    }
   ],
   "source": [
    "salaries_df.count()"
   ]
  },
  {
   "cell_type": "code",
   "execution_count": 5,
   "metadata": {
    "collapsed": false
   },
   "outputs": [],
   "source": [
    "salaries_df['JobTitle'] = salaries_df['JobTitle'].astype('category')\n",
    "#salaries_df['JobTitle'].hist()"
   ]
  },
  {
   "cell_type": "code",
   "execution_count": 6,
   "metadata": {
    "collapsed": false
   },
   "outputs": [
    {
     "data": {
      "text/plain": [
       "<seaborn.axisgrid.FacetGrid at 0xa3f93c8>"
      ]
     },
     "execution_count": 6,
     "metadata": {},
     "output_type": "execute_result"
    },
    {
     "data": {
      "image/png": "[encoded data removed]",
      "text/plain": [
       "<matplotlib.figure.Figure at 0xa3f94e0>"
      ]
     },
     "metadata": {},
     "output_type": "display_data"
    }
   ],
   "source": [
    "%matplotlib inline\n",
    "sns.factorplot(\"Status\",data=salaries_df,kind=\"count\")"
   ]
  },
  {
   "cell_type": "code",
   "execution_count": 7,
   "metadata": {
    "collapsed": false
   },
   "outputs": [],
   "source": [
    "def remove_not_provided(Series):\n",
    "    count = 0\n",
    "    for i in Series:\n",
    "        if i == 'Not Provided':\n",
    "            Series[count] = np.nan"
   ]
  },
  {
   "cell_type": "code",
   "execution_count": 26,
   "metadata": {
    "collapsed": false
   },
   "outputs": [],
   "source": [
    "salaries_df2 = salaries_df.replace(to_replace='Not Provided',value=np.nan)"
   ]
  },
  {
   "cell_type": "code",
   "execution_count": 27,
   "metadata": {
    "collapsed": false
   },
   "outputs": [
    {
     "data": {
      "text/plain": [
       "Id                  0\n",
       "JobTitle            0\n",
       "BasePay             0\n",
       "OvertimePay         0\n",
       "OtherPay            0\n",
       "Benefits            0\n",
       "TotalPay            0\n",
       "TotalPayBenefits    0\n",
       "Year                0\n",
       "Agency              0\n",
       "Status              0\n",
       "dtype: int64"
      ]
     },
     "execution_count": 27,
     "metadata": {},
     "output_type": "execute_result"
    }
   ],
   "source": [
    "salaries_df2['BasePay'] = salaries_df2['BasePay'].astype('float')\n",
    "salaries_df2['OvertimePay'] = salaries_df2['OvertimePay'].astype('float')\n",
    "salaries_df2['OtherPay'] = salaries_df2['OtherPay'].astype('float')\n",
    "salaries_df2['Benefits'] = salaries_df2['Benefits'].astype('float')\n",
    "salaries_df2['Agency'] = salaries_df2['Agency'].astype('category')\n",
    "#salaries_df2.info()\n",
    "#salaries_df2.isnull().sum()\n",
    "\n",
    "del salaries_df2['Notes']\n",
    "del salaries_df2['EmployeeName']\n",
    "salaries_df2['Benefits'].fillna(0, inplace=True)\n",
    "salaries_df2['Status'].fillna('Unknown', inplace=True)\n",
    "salaries_df2['Status'] = salaries_df2['Status'].astype('category')\n",
    "salaries_df2.dropna(inplace=True)\n",
    "salaries_df2.isnull().sum()"
   ]
  },
  {
   "cell_type": "code",
   "execution_count": 28,
   "metadata": {
    "collapsed": false
   },
   "outputs": [
    {
     "data": {
      "text/plain": [
       "Id                  148045\n",
       "JobTitle            148045\n",
       "BasePay             148045\n",
       "OvertimePay         148045\n",
       "OtherPay            148045\n",
       "Benefits            148045\n",
       "TotalPay            148045\n",
       "TotalPayBenefits    148045\n",
       "Year                148045\n",
       "Agency              148045\n",
       "Status              148045\n",
       "dtype: int64"
      ]
     },
     "execution_count": 28,
     "metadata": {},
     "output_type": "execute_result"
    }
   ],
   "source": [
    "salaries_df2.count()"
   ]
  },
  {
   "cell_type": "code",
   "execution_count": null,
   "metadata": {
    "collapsed": false
   },
   "outputs": [],
   "source": [
    "g = sns.pairplot(salaries_df2[['BasePay','OvertimePay','OtherPay']], palette=\"Set2\", diag_kind=\"hist\", size=6)"
   ]
  },
  {
   "cell_type": "code",
   "execution_count": 24,
   "metadata": {
    "collapsed": false
   },
   "outputs": [
    {
     "data": {
      "text/html": [
       "<div>\n",
       "<table border=\"1\" class=\"dataframe\">\n",
       "  <thead>\n",
       "    <tr style=\"text-align: right;\">\n",
       "      <th></th>\n",
       "      <th>Id</th>\n",
       "      <th>JobTitle</th>\n",
       "      <th>BasePay</th>\n",
       "      <th>OvertimePay</th>\n",
       "      <th>OtherPay</th>\n",
       "      <th>Benefits</th>\n",
       "      <th>TotalPay</th>\n",
       "      <th>TotalPayBenefits</th>\n",
       "      <th>Year</th>\n",
       "      <th>Agency</th>\n",
       "      <th>Status</th>\n",
       "    </tr>\n",
       "  </thead>\n",
       "  <tbody>\n",
       "    <tr>\n",
       "      <th>0</th>\n",
       "      <td>1</td>\n",
       "      <td>GENERAL MANAGER-METROPOLITAN TRANSIT AUTHORITY</td>\n",
       "      <td>167411.18</td>\n",
       "      <td>0.00</td>\n",
       "      <td>400184.25</td>\n",
       "      <td>0.0</td>\n",
       "      <td>567595.43</td>\n",
       "      <td>567595.43</td>\n",
       "      <td>2011</td>\n",
       "      <td>San Francisco</td>\n",
       "      <td>Unknown</td>\n",
       "    </tr>\n",
       "    <tr>\n",
       "      <th>1</th>\n",
       "      <td>2</td>\n",
       "      <td>CAPTAIN III (POLICE DEPARTMENT)</td>\n",
       "      <td>155966.02</td>\n",
       "      <td>245131.88</td>\n",
       "      <td>137811.38</td>\n",
       "      <td>0.0</td>\n",
       "      <td>538909.28</td>\n",
       "      <td>538909.28</td>\n",
       "      <td>2011</td>\n",
       "      <td>San Francisco</td>\n",
       "      <td>Unknown</td>\n",
       "    </tr>\n",
       "    <tr>\n",
       "      <th>2</th>\n",
       "      <td>3</td>\n",
       "      <td>CAPTAIN III (POLICE DEPARTMENT)</td>\n",
       "      <td>212739.13</td>\n",
       "      <td>106088.18</td>\n",
       "      <td>16452.60</td>\n",
       "      <td>0.0</td>\n",
       "      <td>335279.91</td>\n",
       "      <td>335279.91</td>\n",
       "      <td>2011</td>\n",
       "      <td>San Francisco</td>\n",
       "      <td>Unknown</td>\n",
       "    </tr>\n",
       "    <tr>\n",
       "      <th>3</th>\n",
       "      <td>4</td>\n",
       "      <td>WIRE ROPE CABLE MAINTENANCE MECHANIC</td>\n",
       "      <td>77916.00</td>\n",
       "      <td>56120.71</td>\n",
       "      <td>198306.90</td>\n",
       "      <td>0.0</td>\n",
       "      <td>332343.61</td>\n",
       "      <td>332343.61</td>\n",
       "      <td>2011</td>\n",
       "      <td>San Francisco</td>\n",
       "      <td>Unknown</td>\n",
       "    </tr>\n",
       "    <tr>\n",
       "      <th>4</th>\n",
       "      <td>5</td>\n",
       "      <td>DEPUTY CHIEF OF DEPARTMENT,(FIRE DEPARTMENT)</td>\n",
       "      <td>134401.60</td>\n",
       "      <td>9737.00</td>\n",
       "      <td>182234.59</td>\n",
       "      <td>0.0</td>\n",
       "      <td>326373.19</td>\n",
       "      <td>326373.19</td>\n",
       "      <td>2011</td>\n",
       "      <td>San Francisco</td>\n",
       "      <td>Unknown</td>\n",
       "    </tr>\n",
       "  </tbody>\n",
       "</table>\n",
       "</div>"
      ],
      "text/plain": [
       "   Id                                        JobTitle    BasePay  OvertimePay  \\\n",
       "0   1  GENERAL MANAGER-METROPOLITAN TRANSIT AUTHORITY  167411.18         0.00   \n",
       "1   2                 CAPTAIN III (POLICE DEPARTMENT)  155966.02    245131.88   \n",
       "2   3                 CAPTAIN III (POLICE DEPARTMENT)  212739.13    106088.18   \n",
       "3   4            WIRE ROPE CABLE MAINTENANCE MECHANIC   77916.00     56120.71   \n",
       "4   5    DEPUTY CHIEF OF DEPARTMENT,(FIRE DEPARTMENT)  134401.60      9737.00   \n",
       "\n",
       "    OtherPay  Benefits   TotalPay  TotalPayBenefits  Year         Agency  \\\n",
       "0  400184.25       0.0  567595.43         567595.43  2011  San Francisco   \n",
       "1  137811.38       0.0  538909.28         538909.28  2011  San Francisco   \n",
       "2   16452.60       0.0  335279.91         335279.91  2011  San Francisco   \n",
       "3  198306.90       0.0  332343.61         332343.61  2011  San Francisco   \n",
       "4  182234.59       0.0  326373.19         326373.19  2011  San Francisco   \n",
       "\n",
       "    Status  \n",
       "0  Unknown  \n",
       "1  Unknown  \n",
       "2  Unknown  \n",
       "3  Unknown  \n",
       "4  Unknown  "
      ]
     },
     "execution_count": 24,
     "metadata": {},
     "output_type": "execute_result"
    }
   ],
   "source": [
    "salaries_df2.head()"
   ]
  },
  {
   "cell_type": "code",
   "execution_count": 13,
   "metadata": {
    "collapsed": false
   },
   "outputs": [],
   "source": []
  },
  {
   "cell_type": "code",
   "execution_count": 53,
   "metadata": {
    "collapsed": false
   },
   "outputs": [
    {
     "data": {
      "text/plain": [
       "'Window Cleaner Supervisor'"
      ]
     },
     "execution_count": 53,
     "metadata": {},
     "output_type": "execute_result"
    }
   ],
   "source": [
    "\"list of all categories\"\n",
    "cat = list(salaries_df2['JobTitle'].cat.categories)\n",
    "\n",
    "\"most popular job titles\"\n",
    "top_ten = salaries_df['JobTitle'].value_counts()[:10]\n",
    "cat[-10]"
   ]
  },
  {
   "cell_type": "code",
   "execution_count": 15,
   "metadata": {
    "collapsed": false
   },
   "outputs": [],
   "source": [
    "from difflib import SequenceMatcher\n",
    "\n",
    "def similar(a, b):\n",
    "    return SequenceMatcher(None, a, b).ratio()"
   ]
  },
  {
   "cell_type": "code",
   "execution_count": 54,
   "metadata": {
    "collapsed": false
   },
   "outputs": [
    {
     "data": {
      "text/plain": [
       "'WINDOW CLEANER SUPERVISOR'"
      ]
     },
     "execution_count": 54,
     "metadata": {},
     "output_type": "execute_result"
    }
   ],
   "source": [
    "CAT = []\n",
    "z = []\n",
    "for job in salaries_df2['JobTitle']:\n",
    "    CAT.append(job.upper())\n",
    "for job in cat:\n",
    "    z.append(job.upper())\n",
    "z[-10]"
   ]
  },
  {
   "cell_type": "code",
   "execution_count": 260,
   "metadata": {
    "collapsed": false
   },
   "outputs": [
    {
     "name": "stderr",
     "output_type": "stream",
     "text": [
      "C:\\Users\\Nachiket\\Anaconda2\\lib\\site-packages\\ipykernel\\__main__.py:2: SettingWithCopyWarning: \n",
      "A value is trying to be set on a copy of a slice from a DataFrame.\n",
      "Try using .loc[row_indexer,col_indexer] = value instead\n",
      "\n",
      "See the caveats in the documentation: http://pandas.pydata.org/pandas-docs/stable/indexing.html#indexing-view-versus-copy\n",
      "  from ipykernel import kernelapp as app\n"
     ]
    },
    {
     "ename": "TypeError",
     "evalue": "'regex' must be a string or a compiled regular expression or a list or dict of strings or regular expressions, you passed a 'bool'",
     "output_type": "error",
     "traceback": [
      "\u001b[1;31m---------------------------------------------------------------------------\u001b[0m",
      "\u001b[1;31mTypeError\u001b[0m                                 Traceback (most recent call last)",
      "\u001b[1;32m<ipython-input-260-de7079ec1c77>\u001b[0m in \u001b[0;36m<module>\u001b[1;34m()\u001b[0m\n\u001b[0;32m      1\u001b[0m \u001b[0mdf\u001b[0m \u001b[1;33m=\u001b[0m \u001b[0msalaries_df2\u001b[0m\u001b[1;33m[\u001b[0m\u001b[1;33m[\u001b[0m\u001b[1;34m'Id'\u001b[0m\u001b[1;33m,\u001b[0m\u001b[1;34m'BasePay'\u001b[0m\u001b[1;33m,\u001b[0m\u001b[1;34m'OvertimePay'\u001b[0m\u001b[1;33m,\u001b[0m\u001b[1;34m'OtherPay'\u001b[0m\u001b[1;33m,\u001b[0m\u001b[1;34m'Benefits'\u001b[0m\u001b[1;33m,\u001b[0m\u001b[1;34m'Year'\u001b[0m\u001b[1;33m,\u001b[0m\u001b[1;34m'Status'\u001b[0m\u001b[1;33m,\u001b[0m\u001b[1;34m'TotalPayBenefits'\u001b[0m\u001b[1;33m]\u001b[0m\u001b[1;33m]\u001b[0m\u001b[1;33m\u001b[0m\u001b[0m\n\u001b[0;32m      2\u001b[0m \u001b[0mdf\u001b[0m\u001b[1;33m[\u001b[0m\u001b[1;34m'JobTitle'\u001b[0m\u001b[1;33m]\u001b[0m \u001b[1;33m=\u001b[0m \u001b[0mCAT\u001b[0m\u001b[1;33m\u001b[0m\u001b[0m\n\u001b[1;32m----> 3\u001b[1;33m \u001b[0mdf\u001b[0m\u001b[1;33m.\u001b[0m\u001b[0mreplace\u001b[0m\u001b[1;33m(\u001b[0m\u001b[0minplace\u001b[0m\u001b[1;33m=\u001b[0m\u001b[1;33m[\u001b[0m\u001b[1;34m'JobTitle'\u001b[0m\u001b[1;33m]\u001b[0m\u001b[1;33m,\u001b[0m\u001b[0mvalue\u001b[0m\u001b[1;33m=\u001b[0m\u001b[0mdf\u001b[0m\u001b[1;33m[\u001b[0m\u001b[1;34m'JobTitle'\u001b[0m\u001b[1;33m]\u001b[0m\u001b[1;33m.\u001b[0m\u001b[0mastype\u001b[0m\u001b[1;33m(\u001b[0m\u001b[1;34m'category'\u001b[0m\u001b[1;33m)\u001b[0m\u001b[1;33m)\u001b[0m\u001b[1;33m\u001b[0m\u001b[0m\n\u001b[0m\u001b[0;32m      4\u001b[0m \u001b[1;31m#df.isnull().sum()\u001b[0m\u001b[1;33m\u001b[0m\u001b[1;33m\u001b[0m\u001b[0m\n",
      "\u001b[1;32mC:\\Users\\Nachiket\\Anaconda2\\lib\\site-packages\\pandas\\core\\generic.pyc\u001b[0m in \u001b[0;36mreplace\u001b[1;34m(self, to_replace, value, inplace, limit, regex, method, axis)\u001b[0m\n\u001b[0;32m   3415\u001b[0m                                     \u001b[1;34m\"strings or regular expressions, you \"\u001b[0m\u001b[1;33m\u001b[0m\u001b[0m\n\u001b[0;32m   3416\u001b[0m                                     \u001b[1;34m\"passed a\"\u001b[0m\u001b[1;33m\u001b[0m\u001b[0m\n\u001b[1;32m-> 3417\u001b[1;33m                                     \" {0!r}\".format(type(regex).__name__))\n\u001b[0m\u001b[0;32m   3418\u001b[0m                 return self.replace(regex, value, inplace=inplace, limit=limit,\n\u001b[0;32m   3419\u001b[0m                                     regex=True)\n",
      "\u001b[1;31mTypeError\u001b[0m: 'regex' must be a string or a compiled regular expression or a list or dict of strings or regular expressions, you passed a 'bool'"
     ]
    }
   ],
   "source": [
    "df = salaries_df2[['Id','BasePay','OvertimePay','OtherPay','Benefits','Year','Status','TotalPayBenefits']]\n",
    "df['JobTitle'] = CAT\n",
    "df.replace(inplace=['JobTitle'],value=df['JobTitle'].astype('category'))\n",
    "#df.isnull().sum()"
   ]
  },
  {
   "cell_type": "code",
   "execution_count": 81,
   "metadata": {
    "collapsed": false
   },
   "outputs": [
    {
     "data": {
      "text/plain": [
       "<matplotlib.axes._subplots.AxesSubplot at 0x19b2f240>"
      ]
     },
     "execution_count": 81,
     "metadata": {},
     "output_type": "execute_result"
    },
    {
     "data": {
      "image/png": "[encoded data removed]",
      "text/plain": [
       "<matplotlib.figure.Figure at 0x19f5a668>"
      ]
     },
     "metadata": {},
     "output_type": "display_data"
    }
   ],
   "source": [
    "\"list of all categories\"\n",
    "cat = list(df['JobTitle'].cat.categories)\n",
    "\n",
    "\"most popular job titles\"\n",
    "top_ten = df['JobTitle'].value_counts()[:10]\n",
    "top_ten.plot.bar()"
   ]
  },
  {
   "cell_type": "raw",
   "metadata": {},
   "source": []
  },
  {
   "cell_type": "code",
   "execution_count": 147,
   "metadata": {
    "collapsed": false
   },
   "outputs": [
    {
     "name": "stderr",
     "output_type": "stream",
     "text": [
      "C:\\Users\\Nachiket\\Anaconda2\\lib\\site-packages\\ipykernel\\__main__.py:2: SettingWithCopyWarning: \n",
      "A value is trying to be set on a copy of a slice from a DataFrame.\n",
      "Try using .loc[row_indexer,col_indexer] = value instead\n",
      "\n",
      "See the caveats in the documentation: http://pandas.pydata.org/pandas-docs/stable/indexing.html#indexing-view-versus-copy\n",
      "  from ipykernel import kernelapp as app\n"
     ]
    },
    {
     "data": {
      "text/plain": [
       "<matplotlib.axes._subplots.AxesSubplot at 0x1ba9aa90>"
      ]
     },
     "execution_count": 147,
     "metadata": {},
     "output_type": "execute_result"
    },
    {
     "data": {
      "image/png": "[encoded data removed]",
      "text/plain": [
       "<matplotlib.figure.Figure at 0x1b390780>"
      ]
     },
     "metadata": {},
     "output_type": "display_data"
    }
   ],
   "source": [
    "rich = df[df['TotalPayBenefits'] >= 300000]\n",
    "rich['JobTitle'] = rich['JobTitle'].astype('category')\n",
    "rich.isnull().sum()\n",
    "obj = rich.groupby('JobTitle')\n",
    "richest = obj.mean().dropna().sort_values(by='TotalPayBenefits',ascending=False)\n",
    "richest[:10].plot(y = ['BasePay','OvertimePay','Benefits','OtherPay'],kind='bar')"
   ]
  },
  {
   "cell_type": "markdown",
   "metadata": {},
   "source": [
    "# Naive Bayes with cross-validation"
   ]
  },
  {
   "cell_type": "code",
   "execution_count": 182,
   "metadata": {
    "collapsed": false
   },
   "outputs": [
    {
     "data": {
      "text/html": [
       "<div>\n",
       "<table border=\"1\" class=\"dataframe\">\n",
       "  <thead>\n",
       "    <tr style=\"text-align: right;\">\n",
       "      <th></th>\n",
       "      <th>Id</th>\n",
       "      <th>BasePay</th>\n",
       "      <th>OvertimePay</th>\n",
       "      <th>OtherPay</th>\n",
       "      <th>Benefits</th>\n",
       "      <th>Status</th>\n",
       "      <th>TotalPayBenefits</th>\n",
       "      <th>JobTitle</th>\n",
       "    </tr>\n",
       "  </thead>\n",
       "  <tbody>\n",
       "    <tr>\n",
       "      <th>0</th>\n",
       "      <td>1</td>\n",
       "      <td>167411.18</td>\n",
       "      <td>0.00</td>\n",
       "      <td>400184.25</td>\n",
       "      <td>0.0</td>\n",
       "      <td>Unknown</td>\n",
       "      <td>567595.43</td>\n",
       "      <td>GENERAL MANAGER-METROPOLITAN TRANSIT AUTHORITY</td>\n",
       "    </tr>\n",
       "    <tr>\n",
       "      <th>1</th>\n",
       "      <td>2</td>\n",
       "      <td>155966.02</td>\n",
       "      <td>245131.88</td>\n",
       "      <td>137811.38</td>\n",
       "      <td>0.0</td>\n",
       "      <td>Unknown</td>\n",
       "      <td>538909.28</td>\n",
       "      <td>CAPTAIN III (POLICE DEPARTMENT)</td>\n",
       "    </tr>\n",
       "    <tr>\n",
       "      <th>2</th>\n",
       "      <td>3</td>\n",
       "      <td>212739.13</td>\n",
       "      <td>106088.18</td>\n",
       "      <td>16452.60</td>\n",
       "      <td>0.0</td>\n",
       "      <td>Unknown</td>\n",
       "      <td>335279.91</td>\n",
       "      <td>CAPTAIN III (POLICE DEPARTMENT)</td>\n",
       "    </tr>\n",
       "    <tr>\n",
       "      <th>3</th>\n",
       "      <td>4</td>\n",
       "      <td>77916.00</td>\n",
       "      <td>56120.71</td>\n",
       "      <td>198306.90</td>\n",
       "      <td>0.0</td>\n",
       "      <td>Unknown</td>\n",
       "      <td>332343.61</td>\n",
       "      <td>WIRE ROPE CABLE MAINTENANCE MECHANIC</td>\n",
       "    </tr>\n",
       "    <tr>\n",
       "      <th>4</th>\n",
       "      <td>5</td>\n",
       "      <td>134401.60</td>\n",
       "      <td>9737.00</td>\n",
       "      <td>182234.59</td>\n",
       "      <td>0.0</td>\n",
       "      <td>Unknown</td>\n",
       "      <td>326373.19</td>\n",
       "      <td>DEPUTY CHIEF OF DEPARTMENT,(FIRE DEPARTMENT)</td>\n",
       "    </tr>\n",
       "  </tbody>\n",
       "</table>\n",
       "</div>"
      ],
      "text/plain": [
       "   Id    BasePay  OvertimePay   OtherPay  Benefits   Status  TotalPayBenefits  \\\n",
       "0   1  167411.18         0.00  400184.25       0.0  Unknown         567595.43   \n",
       "1   2  155966.02    245131.88  137811.38       0.0  Unknown         538909.28   \n",
       "2   3  212739.13    106088.18   16452.60       0.0  Unknown         335279.91   \n",
       "3   4   77916.00     56120.71  198306.90       0.0  Unknown         332343.61   \n",
       "4   5  134401.60      9737.00  182234.59       0.0  Unknown         326373.19   \n",
       "\n",
       "                                         JobTitle  \n",
       "0  GENERAL MANAGER-METROPOLITAN TRANSIT AUTHORITY  \n",
       "1                 CAPTAIN III (POLICE DEPARTMENT)  \n",
       "2                 CAPTAIN III (POLICE DEPARTMENT)  \n",
       "3            WIRE ROPE CABLE MAINTENANCE MECHANIC  \n",
       "4    DEPUTY CHIEF OF DEPARTMENT,(FIRE DEPARTMENT)  "
      ]
     },
     "execution_count": 182,
     "metadata": {},
     "output_type": "execute_result"
    }
   ],
   "source": [
    "df.head()\n",
    "#del df['Year']\n",
    "df.head()"
   ]
  },
  {
   "cell_type": "code",
   "execution_count": 184,
   "metadata": {
    "collapsed": false
   },
   "outputs": [
    {
     "data": {
      "text/plain": [
       "<matplotlib.axes._subplots.AxesSubplot at 0x1cd8d1d0>"
      ]
     },
     "execution_count": 184,
     "metadata": {},
     "output_type": "execute_result"
    },
    {
     "data": {
      "image/png": "[encoded data removed]",
      "text/plain": [
       "<matplotlib.figure.Figure at 0x1cd374e0>"
      ]
     },
     "metadata": {},
     "output_type": "display_data"
    }
   ],
   "source": [
    "df.Status.astype('category').value_counts().plot(kind='bar')"
   ]
  },
  {
   "cell_type": "code",
   "execution_count": 189,
   "metadata": {
    "collapsed": false
   },
   "outputs": [
    {
     "data": {
      "text/plain": [
       "Id                                                               1\n",
       "BasePay                                                     167411\n",
       "OvertimePay                                                      0\n",
       "OtherPay                                                    400184\n",
       "Benefits                                                         0\n",
       "Status                                                     Unknown\n",
       "TotalPayBenefits                                            567595\n",
       "JobTitle            GENERAL MANAGER-METROPOLITAN TRANSIT AUTHORITY\n",
       "Name: 0, dtype: object"
      ]
     },
     "execution_count": 189,
     "metadata": {},
     "output_type": "execute_result"
    }
   ],
   "source": [
    "df.iloc[0]"
   ]
  },
  {
   "cell_type": "code",
   "execution_count": 235,
   "metadata": {
    "collapsed": false
   },
   "outputs": [],
   "source": [
    "#K fold cross-validation\n",
    "folds = cross_validation.KFold(len(df),n_folds=10)"
   ]
  },
  {
   "cell_type": "code",
   "execution_count": 236,
   "metadata": {
    "collapsed": false
   },
   "outputs": [
    {
     "data": {
      "text/plain": [
       "0.079374829187616985"
      ]
     },
     "execution_count": 236,
     "metadata": {},
     "output_type": "execute_result"
    }
   ],
   "source": [
    "scores = []\n",
    "for train, test in folds:\n",
    "    train_df = df.iloc[train]\n",
    "    test_df  = df.iloc[test]\n",
    "    \n",
    "    X = np.array(train_df[['BasePay','OvertimePay','OtherPay','Benefits','TotalPayBenefits']])\n",
    "    y = np.array(train_df['JobTitle'])\n",
    "    clf = GaussianNB()\n",
    "    clf.fit(X, y)\n",
    "    Xtest = np.array(test_df[['BasePay','OvertimePay','OtherPay','Benefits','TotalPayBenefits']])\n",
    "    ytest = np.array(test_df['JobTitle'])\n",
    "    scores.append(clf.score(Xtest,ytest))\n",
    "sum(scores)/len(scores)"
   ]
  },
  {
   "cell_type": "code",
   "execution_count": 259,
   "metadata": {
    "collapsed": false
   },
   "outputs": [],
   "source": [
    "def effect_of_k_on_scores(kmax):\n",
    "    kdf = pd.DataFrame(columns=['k','avg_score'])\n",
    "    kdf['k'] = range(2,kmax+1)\n",
    "    for i in range(2,kmax+1):\n",
    "        #K fold cross-validation\n",
    "        folds = cross_validation.KFold(len(df),n_folds=i)\n",
    "        \n",
    "        #Naive Bayes on each fold\n",
    "        scores = []\n",
    "        for train, test in folds:\n",
    "            train_df = df.iloc[train]\n",
    "            test_df  = df.iloc[test]\n",
    "\n",
    "            X = np.array(train_df[['BasePay','OvertimePay','OtherPay']])\n",
    "            y = np.array(train_df['JobTitle'])\n",
    "            clf = GaussianNB()\n",
    "            clf.fit(X, y)\n",
    "            Xtest = np.array(test_df[['BasePay','OvertimePay','OtherPay']])\n",
    "            ytest = np.array(test_df['JobTitle'])\n",
    "            scores.append(clf.score(Xtest,ytest))\n",
    "        print scores\n",
    "        kdf['avg_score'] = sum(scores)/len(scores)\n",
    "    return kdf"
   ]
  },
  {
   "cell_type": "code",
   "execution_count": 258,
   "metadata": {
    "collapsed": false
   },
   "outputs": [],
   "source": [
    "#kdf = effect_of_k_on_scores(5)\n",
    "#kdf"
   ]
  }
 ],
 "metadata": {
  "kernelspec": {
   "display_name": "Python [Root]",
   "language": "python",
   "name": "Python [Root]"
  },
  "language_info": {
   "codemirror_mode": {
    "name": "ipython",
    "version": 2
   },
   "file_extension": ".py",
   "mimetype": "text/x-python",
   "name": "python",
   "nbconvert_exporter": "python",
   "pygments_lexer": "ipython2",
   "version": "2.7.12"
  }
 },
 "nbformat": 4,
 "nbformat_minor": 0
}
